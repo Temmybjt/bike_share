{
 "cells": [
  {
   "cell_type": "markdown",
   "id": "dfd8c9cb-6721-4c22-9ead-15a606578d90",
   "metadata": {},
   "source": [
    "# Case Study 1: How Does a Bike-Share Navigate Speedy Success?"
   ]
  },
  {
   "cell_type": "markdown",
   "id": "9879f157-0cc9-4ead-b34e-be7c0dfb7a1b",
   "metadata": {},
   "source": [
    "### Scenario\n",
    "You are a junior data analyst working in the marketing analyst team at Cyclistic, a bike-share company in Chicago. The director\n",
    "of marketing believes the company’s future success depends on maximizing the number of annual memberships. Therefore,\n",
    "your team wants to understand how casual riders and annual members use Cyclistic bikes differently. From these insights,\n",
    "your team will design a new marketing strategy to convert casual riders into annual members. But first, Cyclistic executives\n",
    "must approve your recommendations, so they must be backed up with compelling data insights and professional data\n",
    "visualizations."
   ]
  },
  {
   "cell_type": "markdown",
   "id": "a3cd1dd2-55cb-4f37-8f50-85b39e779b2d",
   "metadata": {},
   "source": [
    "### Business Task\n",
    "The objective is to maximize the number of annual memberships by converting casual riders. \n",
    "Answering the following questions would give insights to possible ways that can be done.\n",
    "\n",
    "1. How do annual members and casual riders use Cyclistic bikes differently?\n",
    "2. Why would casual riders buy Cyclistic annual memberships?\n",
    "3. How can Cyclistic use digital media to influence casual riders to become members?"
   ]
  },
  {
   "cell_type": "markdown",
   "id": "a75f4d5f-a4bc-44ef-b51d-67b46dbde1a4",
   "metadata": {},
   "source": [
    "### All about the Dataset\n",
    "[Cyclistic bikes Dataset](https://divvy-tripdata.s3.amazonaws.com/index.html)  \n",
    "The datasets have a different name because Cyclistic is a fictional company.  \n",
    "The data is organised per month for every year period in zipped files.  \n",
    "I will be using a 12 month period between 2021-10 to 2022-09 for this project.\n",
    "The data is made available by Motivate International Inc. [License](https://www.divvybikes.com/data-license-agreement)\n",
    "\n",
    "It contains 13 columns with the following names  \n",
    "__ride_id__, rideable_type, __started_at__, ended_at,    \t\n",
    "__start_station_name__, start_station_id, __end_station_name__, end_station_id,  \t\n",
    "__start_lat__, start_lng, __end_lat__, end_lng, __member_casual__."
   ]
  },
  {
   "cell_type": "markdown",
   "id": "54c05fa1-4588-4eed-be76-7424890a7eaa",
   "metadata": {},
   "source": [
    "### Sort Filter in Excel using marcos(Cleaning Data)\n",
    "* used macros to automate the cleaning process for the 12 excel files\n",
    "* A new column named duration(mins) was created from the date time column \n",
    "\n",
    "\n",
    "   \n",
    " "
   ]
  },
  {
   "cell_type": "markdown",
   "id": "167ba6a2-f82c-4cb1-ba23-1b9998c8a528",
   "metadata": {},
   "source": [
    "### Import Libraries"
   ]
  },
  {
   "cell_type": "code",
   "execution_count": 34,
   "id": "be9b9449-49ea-4f02-a48f-b8c952f0149e",
   "metadata": {},
   "outputs": [],
   "source": [
    "#connection to PostgreSQL database\n",
    "import psycopg2\n",
    "import os\n",
    "import pandas as pd\n"
   ]
  },
  {
   "cell_type": "code",
   "execution_count": null,
   "id": "f1fb82ce-3bb9-41b7-a761-eade601e19f2",
   "metadata": {},
   "outputs": [],
   "source": []
  },
  {
   "cell_type": "markdown",
   "id": "fae399c5-4269-48b1-91c2-7519aab7878e",
   "metadata": {},
   "source": [
    "### Establish a connection to database "
   ]
  },
  {
   "cell_type": "code",
   "execution_count": 31,
   "id": "76ec3f90-df64-4aeb-8650-0dc4a6dd1e9d",
   "metadata": {},
   "outputs": [
    {
     "name": "stdout",
     "output_type": "stream",
     "text": [
      "Database connection established\n"
     ]
    }
   ],
   "source": [
    "conn = psycopg2.connect(database=\"cyclistic_bikes\", user=\"postgres\", password=\"Spily1988\", host=\"127.0.0.1\", port=\"5432\")\n",
    "print(\"Database connection established\")"
   ]
  },
  {
   "cell_type": "code",
   "execution_count": 32,
   "id": "b33b4e03-8e7e-4e9b-b512-2af920939155",
   "metadata": {},
   "outputs": [],
   "source": [
    "cur = conn.cursor()"
   ]
  },
  {
   "cell_type": "code",
   "execution_count": null,
   "id": "5bb17e0e-7ae6-47aa-8bd8-e2e09444fc88",
   "metadata": {},
   "outputs": [],
   "source": []
  }
 ],
 "metadata": {
  "kernelspec": {
   "display_name": "Python 3 (ipykernel)",
   "language": "python",
   "name": "python3"
  },
  "language_info": {
   "codemirror_mode": {
    "name": "ipython",
    "version": 3
   },
   "file_extension": ".py",
   "mimetype": "text/x-python",
   "name": "python",
   "nbconvert_exporter": "python",
   "pygments_lexer": "ipython3",
   "version": "3.9.7"
  }
 },
 "nbformat": 4,
 "nbformat_minor": 5
}
